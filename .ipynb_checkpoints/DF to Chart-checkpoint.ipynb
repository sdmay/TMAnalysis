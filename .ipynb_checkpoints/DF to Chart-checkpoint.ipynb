{
 "cells": [
  {
   "cell_type": "code",
   "execution_count": 10,
   "metadata": {},
   "outputs": [
    {
     "name": "stdout",
     "output_type": "stream",
     "text": [
      "<Response [200]>\n",
      "<Response [200]>\n",
      "<Response [200]>\n",
      "<Response [200]>\n",
      "<Response [200]>\n",
      "<Response [200]>\n",
      "<Response [200]>\n",
      "<Response [200]>\n",
      "<Response [200]>\n",
      "<Response [200]>\n",
      "<Response [200]>\n",
      "<Response [200]>\n",
      "<Response [200]>\n",
      "<Response [200]>\n",
      "<Response [200]>\n",
      "<Response [200]>\n",
      "<Response [200]>\n",
      "<Response [200]>\n",
      "<Response [200]>\n",
      "<Response [200]>\n",
      "{'Farrah': [45, 27, 26, 51, 61], 'Amber': [464, 361, 318, 309, 324], 'Catelynn': [11, 6, 8, 4, 10], 'Maci': [14, 13, 19, 15, 9]}\n",
      "   Farrah  Amber  Catelynn  Maci\n",
      "0      45    464        11    14\n",
      "1      27    361         6    13\n",
      "2      26    318         8    19\n",
      "3      51    309         4    15\n",
      "4      61    324        10     9\n"
     ]
    }
   ],
   "source": [
    "\n",
    "import requests\n",
    "import json\n",
    "import pandas as pd\n",
    "\n",
    "teen_mom_og=['Farrah', 'Amber', 'Catelynn', 'Maci']\n",
    "teen_mom_2=['briana', 'jenelle', 'amber','chelsea','leah','kailyn']\n",
    "# ), 'January2':(,)\n",
    "# ), 'January2':(,)\n",
    "before_and_after_dict={'week0':(1514764801,1515369599), 'week1':(1515369601,1515974399), 'week3':(1515974401,1516579199), 'week4':(1516579201,1517183999),\n",
    "                        'week5':(1517184001,1517788799)}\n",
    "# 'March':(1519862431,1522540771), 'April':(1522540831,1525132771), 'May':(1522540831,1527811171),'June':(1527811231,1530403171)}\n",
    "subreddit='&subreddit'\n",
    "after='&after='\n",
    "before='&before='\n",
    "limit='&limit=1000'\n",
    "teen_mom_stats={}\n",
    "subreddit_name='teenmomogandteenmom2'\n",
    "for name in teen_mom_og:\n",
    "    teen_mom_list=[]\n",
    "    for k,v in before_and_after_dict.items():\n",
    "\n",
    "        base_url='https://api.pushshift.io/reddit/submission/search/?title='\n",
    "        # months=requests.get('https://api.pushshift.io/reddit/submission/search/?q=kailyn&subreddit=teenmom&after=1527811255&before=1530403195')\n",
    "        api_call=requests.get(base_url + name + subreddit + subreddit_name + after + str(v[0]) + before + str(v[1]) + limit)\n",
    "        print(api_call)\n",
    "        teen_mom_text=json.loads(api_call.text)\n",
    "        x=len(teen_mom_text['data'])\n",
    "        teen_mom_list.append(x)\n",
    "    teen_mom_stats[name]=teen_mom_list\n",
    "    # print(teen_mom_list)\n",
    "print(teen_mom_stats)\n",
    "df=pd.DataFrame(teen_mom_stats, index=)\n",
    "# count=0\n",
    "# for k, v in before_and_after_dict.items():\n",
    "\n",
    "#     quick_dict={count:k}\n",
    "#     df = df.rename(index=quick_dict)\n",
    "#     count+=1\n",
    "print(df)"
   ]
  },
  {
   "cell_type": "code",
   "execution_count": 16,
   "metadata": {},
   "outputs": [],
   "source": [
    "import matplotlib as mpl"
   ]
  },
  {
   "cell_type": "code",
   "execution_count": 17,
   "metadata": {},
   "outputs": [],
   "source": [
    "import matplotlib.pyplot as plt\n",
    "%matplotlib inline"
   ]
  },
  {
   "cell_type": "code",
   "execution_count": 18,
   "metadata": {},
   "outputs": [
    {
     "data": {
      "text/html": [
       "<div>\n",
       "<style scoped>\n",
       "    .dataframe tbody tr th:only-of-type {\n",
       "        vertical-align: middle;\n",
       "    }\n",
       "\n",
       "    .dataframe tbody tr th {\n",
       "        vertical-align: top;\n",
       "    }\n",
       "\n",
       "    .dataframe thead th {\n",
       "        text-align: right;\n",
       "    }\n",
       "</style>\n",
       "<table border=\"1\" class=\"dataframe\">\n",
       "  <thead>\n",
       "    <tr style=\"text-align: right;\">\n",
       "      <th></th>\n",
       "      <th>Farrah</th>\n",
       "      <th>Amber</th>\n",
       "      <th>Catelynn</th>\n",
       "      <th>Maci</th>\n",
       "    </tr>\n",
       "  </thead>\n",
       "  <tbody>\n",
       "    <tr>\n",
       "      <th>0</th>\n",
       "      <td>45</td>\n",
       "      <td>464</td>\n",
       "      <td>11</td>\n",
       "      <td>14</td>\n",
       "    </tr>\n",
       "    <tr>\n",
       "      <th>1</th>\n",
       "      <td>27</td>\n",
       "      <td>361</td>\n",
       "      <td>6</td>\n",
       "      <td>13</td>\n",
       "    </tr>\n",
       "    <tr>\n",
       "      <th>2</th>\n",
       "      <td>26</td>\n",
       "      <td>318</td>\n",
       "      <td>8</td>\n",
       "      <td>19</td>\n",
       "    </tr>\n",
       "    <tr>\n",
       "      <th>3</th>\n",
       "      <td>51</td>\n",
       "      <td>309</td>\n",
       "      <td>4</td>\n",
       "      <td>15</td>\n",
       "    </tr>\n",
       "    <tr>\n",
       "      <th>4</th>\n",
       "      <td>61</td>\n",
       "      <td>324</td>\n",
       "      <td>10</td>\n",
       "      <td>9</td>\n",
       "    </tr>\n",
       "  </tbody>\n",
       "</table>\n",
       "</div>"
      ],
      "text/plain": [
       "   Farrah  Amber  Catelynn  Maci\n",
       "0      45    464        11    14\n",
       "1      27    361         6    13\n",
       "2      26    318         8    19\n",
       "3      51    309         4    15\n",
       "4      61    324        10     9"
      ]
     },
     "execution_count": 18,
     "metadata": {},
     "output_type": "execute_result"
    }
   ],
   "source": [
    "df"
   ]
  },
  {
   "cell_type": "code",
   "execution_count": 19,
   "metadata": {},
   "outputs": [
    {
     "data": {
      "text/plain": [
       "RangeIndex(start=0, stop=5, step=1)"
      ]
     },
     "execution_count": 19,
     "metadata": {},
     "output_type": "execute_result"
    }
   ],
   "source": [
    "df.axes[0]"
   ]
  },
  {
   "cell_type": "code",
   "execution_count": 23,
   "metadata": {},
   "outputs": [],
   "source": [
    "import matplotlib.ticker as ticker\n"
   ]
  },
  {
   "cell_type": "code",
   "execution_count": 30,
   "metadata": {},
   "outputs": [
    {
     "data": {
      "image/png": "[encoded data removed]",
      "text/plain": [
       "<Figure size 432x288 with 1 Axes>"
      ]
     },
     "metadata": {},
     "output_type": "display_data"
    }
   ],
   "source": [
    "ax=df.plot()\n",
    "ax.set_xlabel('Week of 2018')\n",
    "ax.set_ylabel('Posts with Name in Title')\n",
    "ax.locator_params(integer=True)\n",
    "\n",
    "plt.show()\n",
    "# ax.xaxis.set_major_formatter(ticker.StrMethodFormatter(\"Week {x:.0f}\"))\n",
    "# for tick in ax.get_xticklabels():\n",
    "#     tick.set_rotation(90)"
   ]
  },
  {
   "cell_type": "code",
   "execution_count": null,
   "metadata": {},
   "outputs": [],
   "source": []
  }
 ],
 "metadata": {
  "kernelspec": {
   "display_name": "Python 3",
   "language": "python",
   "name": "python3"
  },
  "language_info": {
   "codemirror_mode": {
    "name": "ipython",
    "version": 3
   },
   "file_extension": ".py",
   "mimetype": "text/x-python",
   "name": "python",
   "nbconvert_exporter": "python",
   "pygments_lexer": "ipython3",
   "version": "3.6.5"
  }
 },
 "nbformat": 4,
 "nbformat_minor": 2
}
